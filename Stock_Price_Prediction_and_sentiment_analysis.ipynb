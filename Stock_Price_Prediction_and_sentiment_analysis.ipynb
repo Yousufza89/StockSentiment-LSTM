{
  "cells": [
    {
      "cell_type": "code",
      "execution_count": 57,
      "metadata": {
        "id": "ROYcLHTagHRw"
      },
      "outputs": [],
      "source": [
        "from alpha_vantage.timeseries import TimeSeries\n",
        "import pandas as pd\n",
        "import numpy as np\n",
        "from statsmodels.tsa.arima_model import ARIMA\n",
        "from sklearn.metrics import mean_squared_error\n",
        "import matplotlib.pyplot as plt\n",
        "plt.style.use('ggplot')\n",
        "import math, random\n",
        "from datetime import datetime\n",
        "import datetime as dt\n",
        "import preprocessor as p\n",
        "import re\n",
        "from sklearn.linear_model import LinearRegression\n",
        "from textblob import TextBlob"
      ]
    },
    {
      "cell_type": "code",
      "execution_count": 58,
      "metadata": {
        "colab": {
          "base_uri": "https://localhost:8080/"
        },
        "id": "RJ-IFSHOhGp7",
        "outputId": "a1b78eda-629b-4972-c385-6a8b2ab8bc41"
      },
      "outputs": [
        {
          "output_type": "stream",
          "name": "stdout",
          "text": [
            "Collecting https://pypi.anaconda.org/berber/simple/tweet-preprocessor/0.5.0/tweet-preprocessor-0.5.0.tar.gz (from -r requirements.txt (line 16))\n",
            "  Downloading https://pypi.anaconda.org/berber/simple/tweet-preprocessor/0.5.0/tweet-preprocessor-0.5.0.tar.gz (6.3 kB)\n",
            "  Preparing metadata (setup.py) ... \u001b[?25l\u001b[?25hdone\n",
            "Requirement already satisfied: tensorflow in /usr/local/lib/python3.11/dist-packages (from -r requirements.txt (line 1)) (2.18.0)\n",
            "Requirement already satisfied: nltk in /usr/local/lib/python3.11/dist-packages (from -r requirements.txt (line 2)) (3.9.1)\n",
            "Requirement already satisfied: keras in /usr/local/lib/python3.11/dist-packages (from -r requirements.txt (line 3)) (3.8.0)\n",
            "Requirement already satisfied: numpy in /usr/local/lib/python3.11/dist-packages (from -r requirements.txt (line 4)) (2.0.2)\n",
            "Requirement already satisfied: streamlit in /usr/local/lib/python3.11/dist-packages (from -r requirements.txt (line 5)) (1.45.0)\n",
            "Requirement already satisfied: seaborn in /usr/local/lib/python3.11/dist-packages (from -r requirements.txt (line 6)) (0.13.2)\n",
            "Requirement already satisfied: tweepy in /usr/local/lib/python3.11/dist-packages (from -r requirements.txt (line 7)) (4.15.0)\n",
            "Requirement already satisfied: textblob in /usr/local/lib/python3.11/dist-packages (from -r requirements.txt (line 8)) (0.19.0)\n",
            "Requirement already satisfied: flask in /usr/local/lib/python3.11/dist-packages (from -r requirements.txt (line 9)) (3.1.0)\n",
            "Requirement already satisfied: pandas in /usr/local/lib/python3.11/dist-packages (from -r requirements.txt (line 10)) (2.2.2)\n",
            "Requirement already satisfied: matplotlib in /usr/local/lib/python3.11/dist-packages (from -r requirements.txt (line 11)) (3.10.0)\n",
            "Requirement already satisfied: scikit_learn in /usr/local/lib/python3.11/dist-packages (from -r requirements.txt (line 12)) (1.6.1)\n",
            "Requirement already satisfied: statsmodels in /usr/local/lib/python3.11/dist-packages (from -r requirements.txt (line 13)) (0.14.4)\n",
            "Requirement already satisfied: yfinance in /usr/local/lib/python3.11/dist-packages (from -r requirements.txt (line 14)) (0.2.57)\n",
            "Requirement already satisfied: alpha_vantage in /usr/local/lib/python3.11/dist-packages (from -r requirements.txt (line 15)) (3.0.0)\n",
            "Requirement already satisfied: absl-py>=1.0.0 in /usr/local/lib/python3.11/dist-packages (from tensorflow->-r requirements.txt (line 1)) (1.4.0)\n",
            "Requirement already satisfied: astunparse>=1.6.0 in /usr/local/lib/python3.11/dist-packages (from tensorflow->-r requirements.txt (line 1)) (1.6.3)\n",
            "Requirement already satisfied: flatbuffers>=24.3.25 in /usr/local/lib/python3.11/dist-packages (from tensorflow->-r requirements.txt (line 1)) (25.2.10)\n",
            "Requirement already satisfied: gast!=0.5.0,!=0.5.1,!=0.5.2,>=0.2.1 in /usr/local/lib/python3.11/dist-packages (from tensorflow->-r requirements.txt (line 1)) (0.6.0)\n",
            "Requirement already satisfied: google-pasta>=0.1.1 in /usr/local/lib/python3.11/dist-packages (from tensorflow->-r requirements.txt (line 1)) (0.2.0)\n",
            "Requirement already satisfied: libclang>=13.0.0 in /usr/local/lib/python3.11/dist-packages (from tensorflow->-r requirements.txt (line 1)) (18.1.1)\n",
            "Requirement already satisfied: opt-einsum>=2.3.2 in /usr/local/lib/python3.11/dist-packages (from tensorflow->-r requirements.txt (line 1)) (3.4.0)\n",
            "Requirement already satisfied: packaging in /usr/local/lib/python3.11/dist-packages (from tensorflow->-r requirements.txt (line 1)) (24.2)\n",
            "Requirement already satisfied: protobuf!=4.21.0,!=4.21.1,!=4.21.2,!=4.21.3,!=4.21.4,!=4.21.5,<6.0.0dev,>=3.20.3 in /usr/local/lib/python3.11/dist-packages (from tensorflow->-r requirements.txt (line 1)) (5.29.4)\n",
            "Requirement already satisfied: requests<3,>=2.21.0 in /usr/local/lib/python3.11/dist-packages (from tensorflow->-r requirements.txt (line 1)) (2.32.3)\n",
            "Requirement already satisfied: setuptools in /usr/local/lib/python3.11/dist-packages (from tensorflow->-r requirements.txt (line 1)) (75.2.0)\n",
            "Requirement already satisfied: six>=1.12.0 in /usr/local/lib/python3.11/dist-packages (from tensorflow->-r requirements.txt (line 1)) (1.17.0)\n",
            "Requirement already satisfied: termcolor>=1.1.0 in /usr/local/lib/python3.11/dist-packages (from tensorflow->-r requirements.txt (line 1)) (3.1.0)\n",
            "Requirement already satisfied: typing-extensions>=3.6.6 in /usr/local/lib/python3.11/dist-packages (from tensorflow->-r requirements.txt (line 1)) (4.13.2)\n",
            "Requirement already satisfied: wrapt>=1.11.0 in /usr/local/lib/python3.11/dist-packages (from tensorflow->-r requirements.txt (line 1)) (1.17.2)\n",
            "Requirement already satisfied: grpcio<2.0,>=1.24.3 in /usr/local/lib/python3.11/dist-packages (from tensorflow->-r requirements.txt (line 1)) (1.71.0)\n",
            "Requirement already satisfied: tensorboard<2.19,>=2.18 in /usr/local/lib/python3.11/dist-packages (from tensorflow->-r requirements.txt (line 1)) (2.18.0)\n",
            "Requirement already satisfied: h5py>=3.11.0 in /usr/local/lib/python3.11/dist-packages (from tensorflow->-r requirements.txt (line 1)) (3.13.0)\n",
            "Requirement already satisfied: ml-dtypes<0.5.0,>=0.4.0 in /usr/local/lib/python3.11/dist-packages (from tensorflow->-r requirements.txt (line 1)) (0.4.1)\n",
            "Requirement already satisfied: tensorflow-io-gcs-filesystem>=0.23.1 in /usr/local/lib/python3.11/dist-packages (from tensorflow->-r requirements.txt (line 1)) (0.37.1)\n",
            "Requirement already satisfied: click in /usr/local/lib/python3.11/dist-packages (from nltk->-r requirements.txt (line 2)) (8.1.8)\n",
            "Requirement already satisfied: joblib in /usr/local/lib/python3.11/dist-packages (from nltk->-r requirements.txt (line 2)) (1.4.2)\n",
            "Requirement already satisfied: regex>=2021.8.3 in /usr/local/lib/python3.11/dist-packages (from nltk->-r requirements.txt (line 2)) (2024.11.6)\n",
            "Requirement already satisfied: tqdm in /usr/local/lib/python3.11/dist-packages (from nltk->-r requirements.txt (line 2)) (4.67.1)\n",
            "Requirement already satisfied: rich in /usr/local/lib/python3.11/dist-packages (from keras->-r requirements.txt (line 3)) (13.9.4)\n",
            "Requirement already satisfied: namex in /usr/local/lib/python3.11/dist-packages (from keras->-r requirements.txt (line 3)) (0.0.9)\n",
            "Requirement already satisfied: optree in /usr/local/lib/python3.11/dist-packages (from keras->-r requirements.txt (line 3)) (0.15.0)\n",
            "Requirement already satisfied: altair<6,>=4.0 in /usr/local/lib/python3.11/dist-packages (from streamlit->-r requirements.txt (line 5)) (5.5.0)\n",
            "Requirement already satisfied: blinker<2,>=1.5.0 in /usr/local/lib/python3.11/dist-packages (from streamlit->-r requirements.txt (line 5)) (1.9.0)\n",
            "Requirement already satisfied: cachetools<6,>=4.0 in /usr/local/lib/python3.11/dist-packages (from streamlit->-r requirements.txt (line 5)) (5.5.2)\n",
            "Requirement already satisfied: pillow<12,>=7.1.0 in /usr/local/lib/python3.11/dist-packages (from streamlit->-r requirements.txt (line 5)) (11.2.1)\n",
            "Requirement already satisfied: pyarrow>=7.0 in /usr/local/lib/python3.11/dist-packages (from streamlit->-r requirements.txt (line 5)) (18.1.0)\n",
            "Requirement already satisfied: tenacity<10,>=8.1.0 in /usr/local/lib/python3.11/dist-packages (from streamlit->-r requirements.txt (line 5)) (9.1.2)\n",
            "Requirement already satisfied: toml<2,>=0.10.1 in /usr/local/lib/python3.11/dist-packages (from streamlit->-r requirements.txt (line 5)) (0.10.2)\n",
            "Requirement already satisfied: watchdog<7,>=2.1.5 in /usr/local/lib/python3.11/dist-packages (from streamlit->-r requirements.txt (line 5)) (6.0.0)\n",
            "Requirement already satisfied: gitpython!=3.1.19,<4,>=3.0.7 in /usr/local/lib/python3.11/dist-packages (from streamlit->-r requirements.txt (line 5)) (3.1.44)\n",
            "Requirement already satisfied: pydeck<1,>=0.8.0b4 in /usr/local/lib/python3.11/dist-packages (from streamlit->-r requirements.txt (line 5)) (0.9.1)\n",
            "Requirement already satisfied: tornado<7,>=6.0.3 in /usr/local/lib/python3.11/dist-packages (from streamlit->-r requirements.txt (line 5)) (6.4.2)\n",
            "Requirement already satisfied: oauthlib<4,>=3.2.0 in /usr/local/lib/python3.11/dist-packages (from tweepy->-r requirements.txt (line 7)) (3.2.2)\n",
            "Requirement already satisfied: requests-oauthlib<3,>=1.2.0 in /usr/local/lib/python3.11/dist-packages (from tweepy->-r requirements.txt (line 7)) (2.0.0)\n",
            "Requirement already satisfied: Werkzeug>=3.1 in /usr/local/lib/python3.11/dist-packages (from flask->-r requirements.txt (line 9)) (3.1.3)\n",
            "Requirement already satisfied: Jinja2>=3.1.2 in /usr/local/lib/python3.11/dist-packages (from flask->-r requirements.txt (line 9)) (3.1.6)\n",
            "Requirement already satisfied: itsdangerous>=2.2 in /usr/local/lib/python3.11/dist-packages (from flask->-r requirements.txt (line 9)) (2.2.0)\n",
            "Requirement already satisfied: python-dateutil>=2.8.2 in /usr/local/lib/python3.11/dist-packages (from pandas->-r requirements.txt (line 10)) (2.9.0.post0)\n",
            "Requirement already satisfied: pytz>=2020.1 in /usr/local/lib/python3.11/dist-packages (from pandas->-r requirements.txt (line 10)) (2025.2)\n",
            "Requirement already satisfied: tzdata>=2022.7 in /usr/local/lib/python3.11/dist-packages (from pandas->-r requirements.txt (line 10)) (2025.2)\n",
            "Requirement already satisfied: contourpy>=1.0.1 in /usr/local/lib/python3.11/dist-packages (from matplotlib->-r requirements.txt (line 11)) (1.3.2)\n",
            "Requirement already satisfied: cycler>=0.10 in /usr/local/lib/python3.11/dist-packages (from matplotlib->-r requirements.txt (line 11)) (0.12.1)\n",
            "Requirement already satisfied: fonttools>=4.22.0 in /usr/local/lib/python3.11/dist-packages (from matplotlib->-r requirements.txt (line 11)) (4.57.0)\n",
            "Requirement already satisfied: kiwisolver>=1.3.1 in /usr/local/lib/python3.11/dist-packages (from matplotlib->-r requirements.txt (line 11)) (1.4.8)\n",
            "Requirement already satisfied: pyparsing>=2.3.1 in /usr/local/lib/python3.11/dist-packages (from matplotlib->-r requirements.txt (line 11)) (3.2.3)\n",
            "Requirement already satisfied: scipy>=1.6.0 in /usr/local/lib/python3.11/dist-packages (from scikit_learn->-r requirements.txt (line 12)) (1.15.2)\n",
            "Requirement already satisfied: threadpoolctl>=3.1.0 in /usr/local/lib/python3.11/dist-packages (from scikit_learn->-r requirements.txt (line 12)) (3.6.0)\n",
            "Requirement already satisfied: patsy>=0.5.6 in /usr/local/lib/python3.11/dist-packages (from statsmodels->-r requirements.txt (line 13)) (1.0.1)\n",
            "Requirement already satisfied: multitasking>=0.0.7 in /usr/local/lib/python3.11/dist-packages (from yfinance->-r requirements.txt (line 14)) (0.0.11)\n",
            "Requirement already satisfied: platformdirs>=2.0.0 in /usr/local/lib/python3.11/dist-packages (from yfinance->-r requirements.txt (line 14)) (4.3.7)\n",
            "Requirement already satisfied: frozendict>=2.3.4 in /usr/local/lib/python3.11/dist-packages (from yfinance->-r requirements.txt (line 14)) (2.4.6)\n",
            "Requirement already satisfied: peewee>=3.16.2 in /usr/local/lib/python3.11/dist-packages (from yfinance->-r requirements.txt (line 14)) (3.18.1)\n",
            "Requirement already satisfied: beautifulsoup4>=4.11.1 in /usr/local/lib/python3.11/dist-packages (from yfinance->-r requirements.txt (line 14)) (4.13.4)\n",
            "Requirement already satisfied: aiohttp in /usr/local/lib/python3.11/dist-packages (from alpha_vantage->-r requirements.txt (line 15)) (3.11.15)\n",
            "Requirement already satisfied: jsonschema>=3.0 in /usr/local/lib/python3.11/dist-packages (from altair<6,>=4.0->streamlit->-r requirements.txt (line 5)) (4.23.0)\n",
            "Requirement already satisfied: narwhals>=1.14.2 in /usr/local/lib/python3.11/dist-packages (from altair<6,>=4.0->streamlit->-r requirements.txt (line 5)) (1.37.1)\n",
            "Requirement already satisfied: wheel<1.0,>=0.23.0 in /usr/local/lib/python3.11/dist-packages (from astunparse>=1.6.0->tensorflow->-r requirements.txt (line 1)) (0.45.1)\n",
            "Requirement already satisfied: soupsieve>1.2 in /usr/local/lib/python3.11/dist-packages (from beautifulsoup4>=4.11.1->yfinance->-r requirements.txt (line 14)) (2.7)\n",
            "Requirement already satisfied: gitdb<5,>=4.0.1 in /usr/local/lib/python3.11/dist-packages (from gitpython!=3.1.19,<4,>=3.0.7->streamlit->-r requirements.txt (line 5)) (4.0.12)\n",
            "Requirement already satisfied: MarkupSafe>=2.0 in /usr/local/lib/python3.11/dist-packages (from Jinja2>=3.1.2->flask->-r requirements.txt (line 9)) (3.0.2)\n",
            "Requirement already satisfied: charset-normalizer<4,>=2 in /usr/local/lib/python3.11/dist-packages (from requests<3,>=2.21.0->tensorflow->-r requirements.txt (line 1)) (3.4.1)\n",
            "Requirement already satisfied: idna<4,>=2.5 in /usr/local/lib/python3.11/dist-packages (from requests<3,>=2.21.0->tensorflow->-r requirements.txt (line 1)) (3.10)\n",
            "Requirement already satisfied: urllib3<3,>=1.21.1 in /usr/local/lib/python3.11/dist-packages (from requests<3,>=2.21.0->tensorflow->-r requirements.txt (line 1)) (2.4.0)\n",
            "Requirement already satisfied: certifi>=2017.4.17 in /usr/local/lib/python3.11/dist-packages (from requests<3,>=2.21.0->tensorflow->-r requirements.txt (line 1)) (2025.4.26)\n",
            "Requirement already satisfied: markdown>=2.6.8 in /usr/local/lib/python3.11/dist-packages (from tensorboard<2.19,>=2.18->tensorflow->-r requirements.txt (line 1)) (3.8)\n",
            "Requirement already satisfied: tensorboard-data-server<0.8.0,>=0.7.0 in /usr/local/lib/python3.11/dist-packages (from tensorboard<2.19,>=2.18->tensorflow->-r requirements.txt (line 1)) (0.7.2)\n",
            "Requirement already satisfied: aiohappyeyeballs>=2.3.0 in /usr/local/lib/python3.11/dist-packages (from aiohttp->alpha_vantage->-r requirements.txt (line 15)) (2.6.1)\n",
            "Requirement already satisfied: aiosignal>=1.1.2 in /usr/local/lib/python3.11/dist-packages (from aiohttp->alpha_vantage->-r requirements.txt (line 15)) (1.3.2)\n",
            "Requirement already satisfied: attrs>=17.3.0 in /usr/local/lib/python3.11/dist-packages (from aiohttp->alpha_vantage->-r requirements.txt (line 15)) (25.3.0)\n",
            "Requirement already satisfied: frozenlist>=1.1.1 in /usr/local/lib/python3.11/dist-packages (from aiohttp->alpha_vantage->-r requirements.txt (line 15)) (1.6.0)\n",
            "Requirement already satisfied: multidict<7.0,>=4.5 in /usr/local/lib/python3.11/dist-packages (from aiohttp->alpha_vantage->-r requirements.txt (line 15)) (6.4.3)\n",
            "Requirement already satisfied: propcache>=0.2.0 in /usr/local/lib/python3.11/dist-packages (from aiohttp->alpha_vantage->-r requirements.txt (line 15)) (0.3.1)\n",
            "Requirement already satisfied: yarl<2.0,>=1.17.0 in /usr/local/lib/python3.11/dist-packages (from aiohttp->alpha_vantage->-r requirements.txt (line 15)) (1.20.0)\n",
            "Requirement already satisfied: markdown-it-py>=2.2.0 in /usr/local/lib/python3.11/dist-packages (from rich->keras->-r requirements.txt (line 3)) (3.0.0)\n",
            "Requirement already satisfied: pygments<3.0.0,>=2.13.0 in /usr/local/lib/python3.11/dist-packages (from rich->keras->-r requirements.txt (line 3)) (2.19.1)\n",
            "Requirement already satisfied: smmap<6,>=3.0.1 in /usr/local/lib/python3.11/dist-packages (from gitdb<5,>=4.0.1->gitpython!=3.1.19,<4,>=3.0.7->streamlit->-r requirements.txt (line 5)) (5.0.2)\n",
            "Requirement already satisfied: jsonschema-specifications>=2023.03.6 in /usr/local/lib/python3.11/dist-packages (from jsonschema>=3.0->altair<6,>=4.0->streamlit->-r requirements.txt (line 5)) (2025.4.1)\n",
            "Requirement already satisfied: referencing>=0.28.4 in /usr/local/lib/python3.11/dist-packages (from jsonschema>=3.0->altair<6,>=4.0->streamlit->-r requirements.txt (line 5)) (0.36.2)\n",
            "Requirement already satisfied: rpds-py>=0.7.1 in /usr/local/lib/python3.11/dist-packages (from jsonschema>=3.0->altair<6,>=4.0->streamlit->-r requirements.txt (line 5)) (0.24.0)\n",
            "Requirement already satisfied: mdurl~=0.1 in /usr/local/lib/python3.11/dist-packages (from markdown-it-py>=2.2.0->rich->keras->-r requirements.txt (line 3)) (0.1.2)\n"
          ]
        }
      ],
      "source": [
        "pip install -r requirements.txt"
      ]
    },
    {
      "cell_type": "code",
      "source": [
        "pip install twelvedata"
      ],
      "metadata": {
        "colab": {
          "base_uri": "https://localhost:8080/"
        },
        "id": "pqPSvo1G0ln3",
        "outputId": "83844a33-409f-4c19-9995-4c6e030395d3"
      },
      "execution_count": 59,
      "outputs": [
        {
          "output_type": "stream",
          "name": "stdout",
          "text": [
            "Requirement already satisfied: twelvedata in /usr/local/lib/python3.11/dist-packages (1.2.25)\n",
            "Requirement already satisfied: pytimeparse<2,>=1.1 in /usr/local/lib/python3.11/dist-packages (from twelvedata) (1.1.8)\n",
            "Requirement already satisfied: requests<3,>=2.22 in /usr/local/lib/python3.11/dist-packages (from twelvedata) (2.32.3)\n",
            "Requirement already satisfied: charset-normalizer<4,>=2 in /usr/local/lib/python3.11/dist-packages (from requests<3,>=2.22->twelvedata) (3.4.1)\n",
            "Requirement already satisfied: idna<4,>=2.5 in /usr/local/lib/python3.11/dist-packages (from requests<3,>=2.22->twelvedata) (3.10)\n",
            "Requirement already satisfied: urllib3<3,>=1.21.1 in /usr/local/lib/python3.11/dist-packages (from requests<3,>=2.22->twelvedata) (2.4.0)\n",
            "Requirement already satisfied: certifi>=2017.4.17 in /usr/local/lib/python3.11/dist-packages (from requests<3,>=2.22->twelvedata) (2025.4.26)\n"
          ]
        }
      ]
    },
    {
      "cell_type": "code",
      "execution_count": 60,
      "metadata": {
        "id": "HKunoxfshJAQ"
      },
      "outputs": [],
      "source": [
        "import warnings\n",
        "warnings.filterwarnings(\"ignore\")\n",
        "import os\n",
        "os.environ['TF_CPP_MIN_LOG_LEVEL'] = '3'"
      ]
    },
    {
      "cell_type": "code",
      "execution_count": 61,
      "metadata": {
        "id": "QKtWj225hkAO"
      },
      "outputs": [],
      "source": [
        "from twelvedata import TDClient\n",
        "import pandas as pd\n",
        "\n",
        "def get_historical(quote):\n",
        "    td = TDClient(apikey=\"a8a4987f3ed043be86eac53635dbbace\")\n",
        "\n",
        "    try:\n",
        "        print(f\"Fetching data for {quote} from Twelve Data...\")\n",
        "\n",
        "        ts = td.time_series(\n",
        "            symbol=quote,\n",
        "            interval=\"1day\",\n",
        "            outputsize=500,\n",
        "            order=\"asc\"\n",
        "        )\n",
        "\n",
        "        df = ts.as_pandas()\n",
        "\n",
        "        if df.empty or 'close' not in df.columns:\n",
        "            print(f\"No valid data returned for {quote}.\")\n",
        "            return\n",
        "\n",
        "        # Reset index (datetime)\n",
        "        df.reset_index(inplace=True)\n",
        "\n",
        "        # Rename only if the column exists\n",
        "        col_map = {\n",
        "            'datetime': 'Date',\n",
        "            'open': 'Open',\n",
        "            'high': 'High',\n",
        "            'low': 'Low',\n",
        "            'close': 'Close',\n",
        "            'volume': 'Volume'\n",
        "        }\n",
        "\n",
        "        df.rename(columns={k: v for k, v in col_map.items() if k in df.columns}, inplace=True)\n",
        "\n",
        "        # Create 'Adj Close' as copy of 'Close'\n",
        "        df['Adj Close'] = df['Close']\n",
        "\n",
        "        # Reorder columns (safely)\n",
        "        expected_cols = ['Date', 'Open', 'High', 'Low', 'Close', 'Adj Close', 'Volume']\n",
        "        df = df[[col for col in expected_cols if col in df.columns]]\n",
        "\n",
        "        df.to_csv(f\"{quote}.csv\", index=False)\n",
        "        print(f\"Saved {quote}.csv successfully.\")\n",
        "\n",
        "    except Exception as e:\n",
        "        print(f\"Error fetching data for {quote}: {e}\")\n"
      ]
    },
    {
      "cell_type": "code",
      "execution_count": 62,
      "metadata": {
        "id": "yrgxhb6qhsbM"
      },
      "outputs": [],
      "source": [
        "#************* LSTM SECTION **********************\n",
        "\n",
        "def LSTM_ALGO(df):\n",
        "    #Split data into training set and test set\n",
        "    dataset_train=df.iloc[0:int(0.8*len(df)),:]\n",
        "    dataset_test=df.iloc[int(0.8*len(df)):,:]\n",
        "    ############# NOTE #################\n",
        "    #TO PREDICT STOCK PRICES OF NEXT N DAYS, STORE PREVIOUS N DAYS IN MEMORY WHILE TRAINING\n",
        "    # HERE N=7\n",
        "    ###dataset_train=pd.read_csv('Google_Stock_Price_Train.csv')\n",
        "    training_set=df.iloc[:,4:5].values# 1:2, to store as numpy array else Series obj will be stored\n",
        "    #select cols using above manner to select as float64 type, view in var explorer\n",
        "\n",
        "    #Feature Scaling\n",
        "    from sklearn.preprocessing import MinMaxScaler\n",
        "    sc=MinMaxScaler(feature_range=(0,1))#Scaled values btween 0,1\n",
        "    training_set_scaled=sc.fit_transform(training_set)\n",
        "    #In scaling, fit_transform for training, transform for test\n",
        "\n",
        "    #Creating data stucture with 7 timesteps and 1 output.\n",
        "    #7 timesteps meaning storing trends from 7 days before current day to predict 1 next output\n",
        "    X_train=[]#memory with 7 days from day i\n",
        "    y_train=[]#day i\n",
        "    for i in range(7,len(training_set_scaled)):\n",
        "        X_train.append(training_set_scaled[i-7:i,0])\n",
        "        y_train.append(training_set_scaled[i,0])\n",
        "    #Convert list to numpy arrays\n",
        "    X_train=np.array(X_train)\n",
        "    y_train=np.array(y_train)\n",
        "    X_forecast=np.array(X_train[-1,1:])\n",
        "    X_forecast=np.append(X_forecast,y_train[-1])\n",
        "    #Reshaping: Adding 3rd dimension\n",
        "    X_train=np.reshape(X_train, (X_train.shape[0],X_train.shape[1],1))#.shape 0=row,1=col\n",
        "    X_forecast=np.reshape(X_forecast, (1,X_forecast.shape[0],1))\n",
        "    #For X_train=np.reshape(no. of rows/samples, timesteps, no. of cols/features)\n",
        "\n",
        "    #Building RNN\n",
        "    from keras.models import Sequential\n",
        "    from keras.layers import Dense\n",
        "    from keras.layers import Dropout\n",
        "    from keras.layers import LSTM\n",
        "\n",
        "    #Initialise RNN\n",
        "    regressor=Sequential()\n",
        "\n",
        "    #Add first LSTM layer\n",
        "    regressor.add(LSTM(units=50,return_sequences=True,input_shape=(X_train.shape[1],1)))\n",
        "    #units=no. of neurons in layer\n",
        "    #input_shape=(timesteps,no. of cols/features)\n",
        "    #return_seq=True for sending recc memory. For last layer, retrun_seq=False since end of the line\n",
        "    regressor.add(Dropout(0.1))\n",
        "\n",
        "    #Add 2nd LSTM layer\n",
        "    regressor.add(LSTM(units=50,return_sequences=True))\n",
        "    regressor.add(Dropout(0.1))\n",
        "\n",
        "    #Add 3rd LSTM layer\n",
        "    regressor.add(LSTM(units=50,return_sequences=True))\n",
        "    regressor.add(Dropout(0.1))\n",
        "\n",
        "    #Add 4th LSTM layer\n",
        "    regressor.add(LSTM(units=50))\n",
        "    regressor.add(Dropout(0.1))\n",
        "\n",
        "    #Add o/p layer\n",
        "    regressor.add(Dense(units=1))\n",
        "\n",
        "    #Compile\n",
        "    regressor.compile(optimizer='adam',loss='mean_squared_error')\n",
        "\n",
        "    #Training\n",
        "    regressor.fit(X_train,y_train,epochs=25,batch_size=32 )\n",
        "    #For lstm, batch_size=power of 2\n",
        "\n",
        "    #Testing\n",
        "    ###dataset_test=pd.read_csv('Google_Stock_Price_Test.csv')\n",
        "    real_stock_price=dataset_test.iloc[:,4:5].values\n",
        "\n",
        "    #To predict, we need stock prices of 7 days before the test set\n",
        "    #So combine train and test set to get the entire data set\n",
        "    dataset_total=pd.concat((dataset_train['Close'],dataset_test['Close']),axis=0)\n",
        "    testing_set=dataset_total[ len(dataset_total) -len(dataset_test) -7: ].values\n",
        "    testing_set=testing_set.reshape(-1,1)\n",
        "    #-1=till last row, (-1,1)=>(80,1). otherwise only (80,0)\n",
        "\n",
        "    #Feature scaling\n",
        "    testing_set=sc.transform(testing_set)\n",
        "\n",
        "    #Create data structure\n",
        "    X_test=[]\n",
        "    for i in range(7,len(testing_set)):\n",
        "        X_test.append(testing_set[i-7:i,0])\n",
        "        #Convert list to numpy arrays\n",
        "    X_test=np.array(X_test)\n",
        "\n",
        "    #Reshaping: Adding 3rd dimension\n",
        "    X_test=np.reshape(X_test, (X_test.shape[0],X_test.shape[1],1))\n",
        "\n",
        "    #Testing Prediction\n",
        "    predicted_stock_price=regressor.predict(X_test)\n",
        "\n",
        "    #Getting original prices back from scaled values\n",
        "    predicted_stock_price=sc.inverse_transform(predicted_stock_price)\n",
        "    fig = plt.figure(figsize=(7.2,4.8),dpi=65)\n",
        "    plt.plot(real_stock_price,label='Actual Price')\n",
        "    plt.plot(predicted_stock_price,label='Predicted Price')\n",
        "    plt.legend(loc=4)\n",
        "\n",
        "    #plt.savefig('static/LSTM.png')\n",
        "    #plt.close(fig)\n",
        "\n",
        "\n",
        "    error_lstm = math.sqrt(mean_squared_error(real_stock_price, predicted_stock_price))\n",
        "\n",
        "\n",
        "    #Forecasting Prediction\n",
        "    forecasted_stock_price=regressor.predict(X_forecast)\n",
        "\n",
        "    #Getting original prices back from scaled values\n",
        "    forecasted_stock_price=sc.inverse_transform(forecasted_stock_price)\n",
        "\n",
        "    lstm_pred=forecasted_stock_price[0,0]\n",
        "    print()\n",
        "    print(\"##############################################################################\")\n",
        "    print(\"Tomorrow's \",quote,\" Closing Price Prediction by LSTM: \",lstm_pred)\n",
        "    print(\"LSTM RMSE:\",error_lstm)\n",
        "    print(\"##############################################################################\")\n",
        "    return lstm_pred,error_lstm"
      ]
    },
    {
      "cell_type": "code",
      "execution_count": 63,
      "metadata": {
        "id": "qo83Wef4h1Fs"
      },
      "outputs": [],
      "source": [
        "#***************** LINEAR REGRESSION SECTION ******************\n",
        "def LIN_REG_ALGO(df):\n",
        "    #No of days to be forcasted in future\n",
        "    forecast_out = int(7)\n",
        "    #Price after n days\n",
        "    df['Close after n days'] = df['Close'].shift(-forecast_out)\n",
        "    #New df with only relevant data\n",
        "    df_new=df[['Close','Close after n days']]\n",
        "\n",
        "    #Structure data for train, test & forecast\n",
        "    #lables of known data, discard last 35 rows\n",
        "    y =np.array(df_new.iloc[:-forecast_out,-1])\n",
        "    y=np.reshape(y, (-1,1))\n",
        "    #all cols of known data except lables, discard last 35 rows\n",
        "    X=np.array(df_new.iloc[:-forecast_out,0:-1])\n",
        "    #Unknown, X to be forecasted\n",
        "    X_to_be_forecasted=np.array(df_new.iloc[-forecast_out:,0:-1])\n",
        "\n",
        "    #Traning, testing to plot graphs, check accuracy\n",
        "    X_train=X[0:int(0.8*len(df)),:]\n",
        "    X_test=X[int(0.8*len(df)):,:]\n",
        "    y_train=y[0:int(0.8*len(df)),:]\n",
        "    y_test=y[int(0.8*len(df)):,:]\n",
        "\n",
        "    # Feature Scaling===Normalization\n",
        "    from sklearn.preprocessing import StandardScaler\n",
        "    sc = StandardScaler()\n",
        "    X_train = sc.fit_transform(X_train)\n",
        "    X_test = sc.transform(X_test)\n",
        "\n",
        "    X_to_be_forecasted=sc.transform(X_to_be_forecasted)\n",
        "\n",
        "    #Training\n",
        "    clf = LinearRegression(n_jobs=-1)\n",
        "    clf.fit(X_train, y_train)\n",
        "\n",
        "    #Testing\n",
        "    y_test_pred=clf.predict(X_test)\n",
        "    y_test_pred=y_test_pred*(1.04)\n",
        "    import matplotlib.pyplot as plt2\n",
        "    fig = plt2.figure(figsize=(7.2,4.8),dpi=65)\n",
        "    plt2.plot(y_test,label='Actual Price' )\n",
        "    plt2.plot(y_test_pred,label='Predicted Price')\n",
        "\n",
        "    plt2.legend(loc=4)\n",
        "\n",
        "    #plt2.savefig('static/LR.png')\n",
        "    #plt2.close(fig)\n",
        "\n",
        "    error_lr = math.sqrt(mean_squared_error(y_test, y_test_pred))\n",
        "\n",
        "\n",
        "    #Forecasting\n",
        "    forecast_set = clf.predict(X_to_be_forecasted)\n",
        "    forecast_set=forecast_set*(1.04)\n",
        "    mean=forecast_set.mean()\n",
        "    lr_pred=forecast_set[0,0]\n",
        "    print()\n",
        "    print(\"##############################################################################\")\n",
        "    print(\"Tomorrow's \",quote,\" Closing Price Prediction by Linear Regression: \",lr_pred)\n",
        "    print(\"Linear Regression RMSE:\",error_lr)\n",
        "    print(\"##############################################################################\")\n",
        "    return df, lr_pred, forecast_set, mean, error_lr"
      ]
    },
    {
      "cell_type": "code",
      "execution_count": 64,
      "metadata": {
        "colab": {
          "base_uri": "https://localhost:8080/"
        },
        "id": "0d_u3Gq3h4PE",
        "outputId": "be60a87e-8688-4204-eb70-3c56aa682782"
      },
      "outputs": [
        {
          "name": "stdout",
          "output_type": "stream",
          "text": [
            "Enter stock ticker symbol: AAPL\n"
          ]
        }
      ],
      "source": [
        "quote = input(\"Enter stock ticker symbol: \")"
      ]
    },
    {
      "cell_type": "code",
      "execution_count": 65,
      "metadata": {
        "colab": {
          "base_uri": "https://localhost:8080/"
        },
        "id": "8gNF5qVkh7Dp",
        "outputId": "327ce7a2-d4c3-4cea-b14a-e44802bc80c6"
      },
      "outputs": [
        {
          "output_type": "stream",
          "name": "stdout",
          "text": [
            "Fetching data for AAPL from Twelve Data...\n",
            "Saved AAPL.csv successfully.\n",
            "##############################################################################\n",
            "Today's AAPL Stock Data: \n",
            "           Date   Open       High        Low   Close  Adj Close    Volume\n",
            "499  2025-05-09  199.0  200.53999  197.53999  198.53     198.53  36415700\n",
            "##############################################################################\n"
          ]
        }
      ],
      "source": [
        "get_historical(quote)\n",
        "#************** PREPROCESSING ***********************\n",
        "df = pd.read_csv(''+quote+'.csv')\n",
        "print(\"##############################################################################\")\n",
        "print(\"Today's\",quote,\"Stock Data: \")\n",
        "today_stock=df.iloc[-1:]\n",
        "print(today_stock)\n",
        "print(\"##############################################################################\")\n",
        "df = df.dropna()\n",
        "code_list=[]\n",
        "for i in range(0,len(df)):\n",
        "    code_list.append(quote)\n",
        "df2=pd.DataFrame(code_list,columns=['Code'])\n",
        "df2 = pd.concat([df2, df], axis=1)\n",
        "df=df2"
      ]
    },
    {
      "cell_type": "code",
      "execution_count": 66,
      "metadata": {
        "colab": {
          "base_uri": "https://localhost:8080/",
          "height": 1000
        },
        "id": "p8juUdFDiZ8g",
        "outputId": "37397dbc-285d-4797-a9ff-18afa475a5de"
      },
      "outputs": [
        {
          "output_type": "stream",
          "name": "stdout",
          "text": [
            "Epoch 1/25\n",
            "\u001b[1m16/16\u001b[0m \u001b[32m━━━━━━━━━━━━━━━━━━━━\u001b[0m\u001b[37m\u001b[0m \u001b[1m8s\u001b[0m 16ms/step - loss: 0.1375\n",
            "Epoch 2/25\n",
            "\u001b[1m16/16\u001b[0m \u001b[32m━━━━━━━━━━━━━━━━━━━━\u001b[0m\u001b[37m\u001b[0m \u001b[1m0s\u001b[0m 17ms/step - loss: 0.0387\n",
            "Epoch 3/25\n",
            "\u001b[1m16/16\u001b[0m \u001b[32m━━━━━━━━━━━━━━━━━━━━\u001b[0m\u001b[37m\u001b[0m \u001b[1m0s\u001b[0m 18ms/step - loss: 0.0165\n",
            "Epoch 4/25\n",
            "\u001b[1m16/16\u001b[0m \u001b[32m━━━━━━━━━━━━━━━━━━━━\u001b[0m\u001b[37m\u001b[0m \u001b[1m1s\u001b[0m 17ms/step - loss: 0.0093\n",
            "Epoch 5/25\n",
            "\u001b[1m16/16\u001b[0m \u001b[32m━━━━━━━━━━━━━━━━━━━━\u001b[0m\u001b[37m\u001b[0m \u001b[1m0s\u001b[0m 17ms/step - loss: 0.0088\n",
            "Epoch 6/25\n",
            "\u001b[1m16/16\u001b[0m \u001b[32m━━━━━━━━━━━━━━━━━━━━\u001b[0m\u001b[37m\u001b[0m \u001b[1m0s\u001b[0m 18ms/step - loss: 0.0092\n",
            "Epoch 7/25\n",
            "\u001b[1m16/16\u001b[0m \u001b[32m━━━━━━━━━━━━━━━━━━━━\u001b[0m\u001b[37m\u001b[0m \u001b[1m0s\u001b[0m 17ms/step - loss: 0.0090\n",
            "Epoch 8/25\n",
            "\u001b[1m16/16\u001b[0m \u001b[32m━━━━━━━━━━━━━━━━━━━━\u001b[0m\u001b[37m\u001b[0m \u001b[1m0s\u001b[0m 17ms/step - loss: 0.0079\n",
            "Epoch 9/25\n",
            "\u001b[1m16/16\u001b[0m \u001b[32m━━━━━━━━━━━━━━━━━━━━\u001b[0m\u001b[37m\u001b[0m \u001b[1m0s\u001b[0m 18ms/step - loss: 0.0086\n",
            "Epoch 10/25\n",
            "\u001b[1m16/16\u001b[0m \u001b[32m━━━━━━━━━━━━━━━━━━━━\u001b[0m\u001b[37m\u001b[0m \u001b[1m0s\u001b[0m 17ms/step - loss: 0.0084\n",
            "Epoch 11/25\n",
            "\u001b[1m16/16\u001b[0m \u001b[32m━━━━━━━━━━━━━━━━━━━━\u001b[0m\u001b[37m\u001b[0m \u001b[1m0s\u001b[0m 17ms/step - loss: 0.0086\n",
            "Epoch 12/25\n",
            "\u001b[1m16/16\u001b[0m \u001b[32m━━━━━━━━━━━━━━━━━━━━\u001b[0m\u001b[37m\u001b[0m \u001b[1m0s\u001b[0m 17ms/step - loss: 0.0084\n",
            "Epoch 13/25\n",
            "\u001b[1m16/16\u001b[0m \u001b[32m━━━━━━━━━━━━━━━━━━━━\u001b[0m\u001b[37m\u001b[0m \u001b[1m0s\u001b[0m 18ms/step - loss: 0.0074\n",
            "Epoch 14/25\n",
            "\u001b[1m16/16\u001b[0m \u001b[32m━━━━━━━━━━━━━━━━━━━━\u001b[0m\u001b[37m\u001b[0m \u001b[1m0s\u001b[0m 17ms/step - loss: 0.0088\n",
            "Epoch 15/25\n",
            "\u001b[1m16/16\u001b[0m \u001b[32m━━━━━━━━━━━━━━━━━━━━\u001b[0m\u001b[37m\u001b[0m \u001b[1m0s\u001b[0m 17ms/step - loss: 0.0077\n",
            "Epoch 16/25\n",
            "\u001b[1m16/16\u001b[0m \u001b[32m━━━━━━━━━━━━━━━━━━━━\u001b[0m\u001b[37m\u001b[0m \u001b[1m0s\u001b[0m 19ms/step - loss: 0.0077\n",
            "Epoch 17/25\n",
            "\u001b[1m16/16\u001b[0m \u001b[32m━━━━━━━━━━━━━━━━━━━━\u001b[0m\u001b[37m\u001b[0m \u001b[1m0s\u001b[0m 18ms/step - loss: 0.0081\n",
            "Epoch 18/25\n",
            "\u001b[1m16/16\u001b[0m \u001b[32m━━━━━━━━━━━━━━━━━━━━\u001b[0m\u001b[37m\u001b[0m \u001b[1m0s\u001b[0m 17ms/step - loss: 0.0076\n",
            "Epoch 19/25\n",
            "\u001b[1m16/16\u001b[0m \u001b[32m━━━━━━━━━━━━━━━━━━━━\u001b[0m\u001b[37m\u001b[0m \u001b[1m0s\u001b[0m 18ms/step - loss: 0.0088\n",
            "Epoch 20/25\n",
            "\u001b[1m16/16\u001b[0m \u001b[32m━━━━━━━━━━━━━━━━━━━━\u001b[0m\u001b[37m\u001b[0m \u001b[1m0s\u001b[0m 17ms/step - loss: 0.0073\n",
            "Epoch 21/25\n",
            "\u001b[1m16/16\u001b[0m \u001b[32m━━━━━━━━━━━━━━━━━━━━\u001b[0m\u001b[37m\u001b[0m \u001b[1m0s\u001b[0m 16ms/step - loss: 0.0076\n",
            "Epoch 22/25\n",
            "\u001b[1m16/16\u001b[0m \u001b[32m━━━━━━━━━━━━━━━━━━━━\u001b[0m\u001b[37m\u001b[0m \u001b[1m0s\u001b[0m 17ms/step - loss: 0.0081\n",
            "Epoch 23/25\n",
            "\u001b[1m16/16\u001b[0m \u001b[32m━━━━━━━━━━━━━━━━━━━━\u001b[0m\u001b[37m\u001b[0m \u001b[1m0s\u001b[0m 19ms/step - loss: 0.0064\n",
            "Epoch 24/25\n",
            "\u001b[1m16/16\u001b[0m \u001b[32m━━━━━━━━━━━━━━━━━━━━\u001b[0m\u001b[37m\u001b[0m \u001b[1m0s\u001b[0m 17ms/step - loss: 0.0092\n",
            "Epoch 25/25\n",
            "\u001b[1m16/16\u001b[0m \u001b[32m━━━━━━━━━━━━━━━━━━━━\u001b[0m\u001b[37m\u001b[0m \u001b[1m0s\u001b[0m 30ms/step - loss: 0.0070\n",
            "\u001b[1m4/4\u001b[0m \u001b[32m━━━━━━━━━━━━━━━━━━━━\u001b[0m\u001b[37m\u001b[0m \u001b[1m2s\u001b[0m 284ms/step\n",
            "\u001b[1m1/1\u001b[0m \u001b[32m━━━━━━━━━━━━━━━━━━━━\u001b[0m\u001b[37m\u001b[0m \u001b[1m0s\u001b[0m 37ms/step\n",
            "\n",
            "##############################################################################\n",
            "Tomorrow's  AAPL  Closing Price Prediction by LSTM:  201.3948\n",
            "LSTM RMSE: 12.63845947175403\n",
            "##############################################################################\n"
          ]
        },
        {
          "output_type": "display_data",
          "data": {
            "text/plain": [
              "<Figure size 468x312 with 1 Axes>"
            ],
            "image/png": "[encoded data removed]"
          },
          "metadata": {}
        }
      ],
      "source": [
        "lstm_pred, error_lstm=LSTM_ALGO(df)"
      ]
    },
    {
      "cell_type": "code",
      "execution_count": 67,
      "metadata": {
        "colab": {
          "base_uri": "https://localhost:8080/",
          "height": 372
        },
        "id": "F69sy8XyiuXK",
        "outputId": "7834788b-94d1-4c33-e462-fe58d67559f5"
      },
      "outputs": [
        {
          "output_type": "stream",
          "name": "stdout",
          "text": [
            "\n",
            "##############################################################################\n",
            "Tomorrow's  AAPL  Closing Price Prediction by Linear Regression:  223.09449959040023\n",
            "Linear Regression RMSE: 20.198407343338445\n",
            "##############################################################################\n"
          ]
        },
        {
          "output_type": "display_data",
          "data": {
            "text/plain": [
              "<Figure size 468x312 with 1 Axes>"
            ],
            "image/png": "[encoded data removed]"
          },
          "metadata": {}
        }
      ],
      "source": [
        " df, lr_pred, forecast_set,mean,error_lr=LIN_REG_ALGO(df)"
      ]
    },
    {
      "cell_type": "code",
      "source": [
        "import kagglehub\n",
        "import pandas as pd\n",
        "import matplotlib.pyplot as plt\n",
        "from textblob import TextBlob\n",
        "import re\n",
        "import nltk\n",
        "\n",
        "nltk.download('punkt')\n",
        "\n",
        "# Download Sentiment140 dataset using KaggleHub\n",
        "path = kagglehub.dataset_download(\"kazanova/sentiment140\")\n",
        "print(\"Path to dataset files:\", path)\n",
        "\n",
        "# Load Sentiment140 dataset into a pandas DataFrame\n",
        "sentiment140_file = f\"{path}/training.1600000.processed.noemoticon.csv\"\n",
        "df = pd.read_csv(sentiment140_file, encoding=\"ISO-8859-1\", header=None)\n",
        "\n",
        "# Renaming columns for better understanding\n",
        "df.columns = ['polarity', 'id', 'date', 'query', 'user', 'text']\n",
        "\n",
        "# Remove any unnecessary columns\n",
        "df = df[['polarity', 'text']]\n",
        "\n",
        "# Map the sentiment polarity: 0 -> Negative, 2 -> Neutral, 4 -> Positive\n",
        "df['sentiment'] = df['polarity'].map({0: 'Negative', 4: 'Positive'})"
      ],
      "metadata": {
        "colab": {
          "base_uri": "https://localhost:8080/"
        },
        "id": "CcEf0WwR8bgy",
        "outputId": "f6a79d1c-c7ce-4944-9620-230f9e8a72c1"
      },
      "execution_count": 68,
      "outputs": [
        {
          "output_type": "stream",
          "name": "stderr",
          "text": [
            "[nltk_data] Downloading package punkt to /root/nltk_data...\n",
            "[nltk_data]   Package punkt is already up-to-date!\n"
          ]
        },
        {
          "output_type": "stream",
          "name": "stdout",
          "text": [
            "Path to dataset files: /kaggle/input/sentiment140\n"
          ]
        }
      ]
    },
    {
      "cell_type": "code",
      "source": [
        "def perform_sentiment_analysis(df, num_of_tweets=300):\n",
        "    # Limiting the dataset to the first num_of_tweets tweets\n",
        "    df = df.head(num_of_tweets)\n",
        "\n",
        "    # Initialize counters for sentiment categories\n",
        "    pos = 0\n",
        "    neg = 0\n",
        "    neutral = 0\n",
        "    global_polarity = 0\n",
        "\n",
        "    # List to store tweet texts and their polarity\n",
        "    tweet_list = []\n",
        "    tw_list = []\n",
        "\n",
        "    # Iterate over the tweets and analyze sentiment\n",
        "    for index, row in df.iterrows():\n",
        "        tweet = row['text']\n",
        "        sentiment = row['sentiment']\n",
        "        blob = TextBlob(tweet)\n",
        "\n",
        "        # Calculate the polarity of the tweet\n",
        "        polarity = 0\n",
        "        for sentence in blob.sentences:\n",
        "            polarity += sentence.sentiment.polarity\n",
        "\n",
        "        # Update sentiment counters\n",
        "        if polarity > 0:\n",
        "            pos += 1\n",
        "        elif polarity < 0:\n",
        "            neg += 1\n",
        "        else:\n",
        "            neutral += 1\n",
        "\n",
        "        # Add tweet polarity to global polarity score\n",
        "        global_polarity += polarity\n",
        "\n",
        "        # Store tweet for future reference\n",
        "        tw_list.append(tweet)\n",
        "        tweet_list.append((tweet, polarity))\n",
        "\n",
        "    # Calculate average polarity of the tweets\n",
        "    if len(tweet_list) > 0:\n",
        "        global_polarity /= len(tweet_list)\n",
        "\n",
        "    print(f\"Positive Tweets: {pos}, Negative Tweets: {neg}, Neutral Tweets: {neutral}\")\n",
        "\n",
        "    # Plotting the sentiment distribution\n",
        "    labels = ['Positive', 'Negative', 'Neutral']\n",
        "    sizes = [pos, neg, neutral]\n",
        "    explode = (0.1, 0, 0)  # Exploding the positive slice for better visibility\n",
        "    fig, ax1 = plt.subplots(figsize=(7.2, 4.8), dpi=65)\n",
        "    ax1.pie(sizes, explode=explode, labels=labels, autopct='%1.1f%%', startangle=90)\n",
        "    ax1.axis('equal')  # Equal aspect ratio ensures that pie is drawn as a circle\n",
        "    plt.tight_layout()\n",
        "    plt.show()\n",
        "\n",
        "    # Determine overall polarity\n",
        "    if global_polarity > 0:\n",
        "        print(\"Tweets Polarity: Overall Positive\")\n",
        "        tw_pol = \"Overall Positive\"\n",
        "    else:\n",
        "        print(\"Tweets Polarity: Overall Negative\")\n",
        "        tw_pol = \"Overall Negative\"\n",
        "\n",
        "    return global_polarity, tw_list, tw_pol, pos, neg, neutral"
      ],
      "metadata": {
        "id": "IwectZ7X8cqv"
      },
      "execution_count": 70,
      "outputs": []
    },
    {
      "cell_type": "code",
      "execution_count": 71,
      "metadata": {
        "id": "UjlxnFV9jeHX"
      },
      "outputs": [],
      "source": [
        "#---------RECOMMENDATIONS BASED ON TWEETS & Models-------------------\n",
        "def recommending(df, global_polarity, today_stock, mean, symbol):\n",
        "    # Check if the current stock price is below the average\n",
        "    if today_stock.iloc[-1]['Close'] < mean:\n",
        "        # If the sentiment is positive (global_polarity > 0), suggest a \"BUY\"\n",
        "        if global_polarity > 0:\n",
        "            idea = \"RISE\"\n",
        "            decision = \"BUY\"\n",
        "            print()\n",
        "            print(\"##############################################################################\")\n",
        "            print(f\"According to the ML Predictions and Sentiment Analysis of {symbol} stock, a {idea} is expected => {decision}\")\n",
        "        # If the sentiment is negative or neutral (global_polarity <= 0), suggest a \"SELL\"\n",
        "        elif global_polarity <= 0:\n",
        "            idea = \"FALL\"\n",
        "            decision = \"SELL\"\n",
        "            print()\n",
        "            print(\"##############################################################################\")\n",
        "            print(f\"According to the ML Predictions and Sentiment Analysis of {symbol} stock, a {idea} is expected => {decision}\")\n",
        "    else:\n",
        "        # If the stock price is above the average, suggest a \"SELL\"\n",
        "        idea = \"FALL\"\n",
        "        decision = \"SELL\"\n",
        "        print()\n",
        "        print(\"##############################################################################\")\n",
        "        print(f\"According to the ML Predictions and Sentiment Analysis of {symbol} stock, a {idea} is expected => {decision}\")\n",
        "\n",
        "    return idea, decision\n"
      ]
    },
    {
      "cell_type": "code",
      "execution_count": 75,
      "metadata": {
        "colab": {
          "base_uri": "https://localhost:8080/",
          "height": 360
        },
        "id": "25exPfW-jh9P",
        "outputId": "a8633e75-8232-45e6-8de1-4849ca195b3e"
      },
      "outputs": [
        {
          "output_type": "stream",
          "name": "stdout",
          "text": [
            "Positive Tweets: 90, Negative Tweets: 104, Neutral Tweets: 106\n"
          ]
        },
        {
          "output_type": "display_data",
          "data": {
            "text/plain": [
              "<Figure size 468x312 with 1 Axes>"
            ],
            "image/png": "[encoded data removed]"
          },
          "metadata": {}
        },
        {
          "output_type": "stream",
          "name": "stdout",
          "text": [
            "Tweets Polarity: Overall Negative\n"
          ]
        }
      ],
      "source": [
        "import pandas as pd\n",
        "from textblob import TextBlob\n",
        "import matplotlib.pyplot as plt\n",
        "\n",
        "# Load Sentiment140 data\n",
        "df = pd.read_csv(\"/kaggle/input/sentiment140/training.1600000.processed.noemoticon.csv\", encoding='latin-1', header=None)\n",
        "df.columns = ['target', 'ids', 'date', 'flag', 'user', 'text']\n",
        "\n",
        "\n",
        "df['sentiment'] = df['target'].map({0: 'negative', 2: 'neutral', 4: 'positive'})\n",
        "\n",
        "keywords = [\"AAPL\", \"Apple\"]\n",
        "stock_df = df[df['text'].str.contains('|'.join(keywords), case=False, na=False)]\n",
        "\n",
        "\n",
        "\n",
        "global_polarity, tw_list, tw_pol, pos, neg, neutral = perform_sentiment_analysis(stock_df)\n"
      ]
    },
    {
      "cell_type": "code",
      "execution_count": 76,
      "metadata": {
        "colab": {
          "base_uri": "https://localhost:8080/"
        },
        "id": "LdoQ85R_jkyL",
        "outputId": "cf665f95-41b7-4c70-b0d3-a412c123fd52"
      },
      "outputs": [
        {
          "output_type": "stream",
          "name": "stdout",
          "text": [
            "\n",
            "##############################################################################\n",
            "According to the ML Predictions and Sentiment Analysis of AAPL stock, a FALL is expected => SELL\n"
          ]
        }
      ],
      "source": [
        "symbol = \"AAPL\"\n",
        "today_stock = pd.DataFrame({'Close': [150]})  # Example stock data\n",
        "mean = 140  # Example mean price\n",
        "global_polarity = 0.15  # Example global polarity from sentiment analysis\n",
        "\n",
        "idea, decision = recommending(df, global_polarity, today_stock, mean, symbol)"
      ]
    },
    {
      "cell_type": "code",
      "execution_count": 69,
      "metadata": {
        "id": "OSjHxjD0j0JN",
        "colab": {
          "base_uri": "https://localhost:8080/"
        },
        "outputId": "00547a16-54b8-4b01-aa68-21c798b99473"
      },
      "outputs": [
        {
          "output_type": "stream",
          "name": "stdout",
          "text": [
            "[nltk_data] Downloading package brown to /root/nltk_data...\n",
            "[nltk_data]   Package brown is already up-to-date!\n",
            "[nltk_data] Downloading package punkt_tab to /root/nltk_data...\n",
            "[nltk_data]   Package punkt_tab is already up-to-date!\n",
            "[nltk_data] Downloading package wordnet to /root/nltk_data...\n",
            "[nltk_data]   Package wordnet is already up-to-date!\n",
            "[nltk_data] Downloading package averaged_perceptron_tagger_eng to\n",
            "[nltk_data]     /root/nltk_data...\n",
            "[nltk_data]   Package averaged_perceptron_tagger_eng is already up-to-\n",
            "[nltk_data]       date!\n",
            "[nltk_data] Downloading package conll2000 to /root/nltk_data...\n",
            "[nltk_data]   Package conll2000 is already up-to-date!\n",
            "[nltk_data] Downloading package movie_reviews to /root/nltk_data...\n",
            "[nltk_data]   Package movie_reviews is already up-to-date!\n",
            "Finished.\n"
          ]
        }
      ],
      "source": [
        "!python -m textblob.download_corpora"
      ]
    }
  ],
  "metadata": {
    "colab": {
      "provenance": []
    },
    "kernelspec": {
      "display_name": "Python 3",
      "name": "python3"
    },
    "language_info": {
      "codemirror_mode": {
        "name": "ipython",
        "version": 3
      },
      "file_extension": ".py",
      "mimetype": "text/x-python",
      "name": "python",
      "nbconvert_exporter": "python",
      "pygments_lexer": "ipython3",
      "version": "3.11.9"
    }
  },
  "nbformat": 4,
  "nbformat_minor": 0
}